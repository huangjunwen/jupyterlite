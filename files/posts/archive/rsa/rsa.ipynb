{
 "cells": [
  {
   "cell_type": "markdown",
   "metadata": {},
   "source": [
    "生成 RSA private key"
   ],
   "id": "7649c414-c13d-473c-9e23-24860e3ad130"
  },
  {
   "cell_type": "code",
   "execution_count": null,
   "metadata": {},
   "outputs": [],
   "source": [
    "from cryptography.hazmat.primitives.asymmetric import rsa\n",
    "from cryptography.hazmat.primitives import serialization\n",
    "\n",
    "key = rsa.generate_private_key(\n",
    "  public_exponent=65537,\n",
    "  key_size=2048\n",
    ")\n",
    "key_pem = key.private_bytes(\n",
    "  encoding=serialization.Encoding.PEM,\n",
    "  format=serialization.PrivateFormat.TraditionalOpenSSL,\n",
    "  encryption_algorithm=serialization.NoEncryption()\n",
    ")\n",
    "print(key_pem.decode('ascii'))"
   ],
   "id": "4448a2b7-4d8a-421e-8fbd-7c51d9cf2d54"
  },
  {
   "cell_type": "markdown",
   "metadata": {},
   "source": [
    "读取 DER 中的内容"
   ],
   "id": "e0a19fc8-d829-440e-86a6-0edc914dfadc"
  },
  {
   "cell_type": "code",
   "execution_count": null,
   "metadata": {},
   "outputs": [],
   "source": [
    "import piplite\n",
    "await piplite.install('pyasn1')\n",
    "await piplite.install('pyasn1-modules')\n",
    "\n",
    "from base64 import b64decode\n",
    "from pyasn1.codec.der.decoder import decode as der_decode\n",
    "from pyasn1_modules import rfc2437\n",
    "\n",
    "def read_key_pem(src):\n",
    "    if isinstance(src, bytes):\n",
    "        src = src.decode('ascii')\n",
    "    data = ''.join((line.strip() for line in src.split('\\n') if not line.startswith('-----')))\n",
    "    return der_decode(b64decode(data), asn1Spec=rfc2437.RSAPrivateKey())[0]\n",
    "\n",
    "obj = read_pem(key_pem))\n",
    "print(obj.prettyPrint())"
   ],
   "id": "9dadc23a-b1e6-46e0-9319-935deb511c48"
  }
 ],
 "nbformat": 4,
 "nbformat_minor": 5,
 "metadata": {}
}
