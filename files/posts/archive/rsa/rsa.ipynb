{
 "cells": [
  {
   "cell_type": "markdown",
   "metadata": {},
   "source": [
    "pip install"
   ],
   "id": "c6b4ab92-8d2f-43b2-8391-afd275c7e088"
  },
  {
   "cell_type": "code",
   "execution_count": null,
   "metadata": {},
   "outputs": [],
   "source": [
    "import piplite\n",
    "await piplite.install('pyasn1')\n",
    "await piplite.install('pyasn1-modules')"
   ],
   "id": "9bf6fc7c-217f-49df-83d0-99ff2cbbca59"
  },
  {
   "cell_type": "markdown",
   "metadata": {},
   "source": [
    "生成 RSA private key"
   ],
   "id": "4365324f-26b0-4b83-9092-1ddf4b6c0a78"
  },
  {
   "cell_type": "code",
   "execution_count": null,
   "metadata": {},
   "outputs": [],
   "source": [
    "from cryptography.hazmat.primitives.asymmetric import rsa\n",
    "from cryptography.hazmat.primitives import serialization\n",
    "\n",
    "key = rsa.generate_private_key(\n",
    "  public_exponent=65537,\n",
    "  key_size=2048\n",
    ")\n",
    "key_pem = key.private_bytes(\n",
    "  encoding=serialization.Encoding.PEM,\n",
    "  format=serialization.PrivateFormat.TraditionalOpenSSL,\n",
    "  encryption_algorithm=serialization.NoEncryption()\n",
    ")\n",
    "print(key_pem.decode('ascii'))"
   ],
   "id": "39b76b49-1445-4a87-a607-13f071090ef1"
  },
  {
   "cell_type": "markdown",
   "metadata": {},
   "source": [
    "读取 DER 中的内容"
   ],
   "id": "be34651f-874f-4dc4-8b84-accfc168d016"
  },
  {
   "cell_type": "code",
   "execution_count": null,
   "metadata": {},
   "outputs": [],
   "source": [
    "from base64 import b64decode\n",
    "from pyasn1.codec.der.decoder import decode as der_decode\n",
    "from pyasn1_modules import rfc2437\n",
    "\n",
    "def read_key_pem(src):\n",
    "    if isinstance(src, bytes):\n",
    "        src = src.decode('ascii')\n",
    "    data = ''.join((line.strip() for line in src.split('\\n') if not line.startswith('-----')))\n",
    "    return der_decode(b64decode(data), asn1Spec=rfc2437.RSAPrivateKey())[0]\n",
    "\n",
    "obj = read_key_pem(key_pem)\n",
    "print(obj.prettyPrint())"
   ],
   "id": "db04b9ec-0a2b-4662-be15-2fd0671a8968"
  }
 ],
 "nbformat": 4,
 "nbformat_minor": 5,
 "metadata": {}
}
